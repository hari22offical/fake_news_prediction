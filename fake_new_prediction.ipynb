{
  "nbformat": 4,
  "nbformat_minor": 0,
  "metadata": {
    "colab": {
      "provenance": []
    },
    "kernelspec": {
      "name": "python3",
      "display_name": "Python 3"
    },
    "language_info": {
      "name": "python"
    }
  },
  "cells": [
    {
      "cell_type": "markdown",
      "source": [
        "![newspaper.webp](data:image/webp;base64,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)"
      ],
      "metadata": {
        "id": "liHhOEycbnRL"
      }
    },
    {
      "cell_type": "markdown",
      "source": [
        "About the Dataset:\n",
        "\n",
        "1. id: unique id for a news article\n",
        "2. title: the title of a news article\n",
        "3. author: author of the news article\n",
        "4. text: the text of the article; could be incomplete\n",
        "5. label: a label that marks whether the news article is real or fake:\n",
        "           1: Fake news\n",
        "           0: real News"
      ],
      "metadata": {
        "id": "QDHxp4vWMmC1"
      }
    },
    {
      "cell_type": "markdown",
      "source": [
        "#importing the depencies"
      ],
      "metadata": {
        "id": "8wLWOks9kuh4"
      }
    },
    {
      "cell_type": "code",
      "source": [
        "# importing the stopwords from corpus libraray in nltk\n",
        "import numpy as np\n",
        "import pandas as pd\n",
        "from nltk.corpus import stopwords"
      ],
      "metadata": {
        "id": "3tZUNcMuMipT"
      },
      "execution_count": 385,
      "outputs": []
    },
    {
      "cell_type": "code",
      "source": [
        "# to view the stopwords \n",
        "import nltk\n",
        "nltk.download('stopwords')"
      ],
      "metadata": {
        "colab": {
          "base_uri": "https://localhost:8080/"
        },
        "id": "raBLtBB1k6ZX",
        "outputId": "97211930-1f1a-46de-aeec-20b2a378ec30"
      },
      "execution_count": 386,
      "outputs": [
        {
          "output_type": "stream",
          "name": "stderr",
          "text": [
            "[nltk_data] Downloading package stopwords to /root/nltk_data...\n",
            "[nltk_data]   Package stopwords is already up-to-date!\n"
          ]
        },
        {
          "output_type": "execute_result",
          "data": {
            "text/plain": [
              "True"
            ]
          },
          "metadata": {},
          "execution_count": 386
        }
      ]
    },
    {
      "cell_type": "code",
      "source": [
        "print(stopwords.words('english'))"
      ],
      "metadata": {
        "colab": {
          "base_uri": "https://localhost:8080/"
        },
        "id": "-mfnlR2ulVYF",
        "outputId": "c25cc845-d8e8-41ba-f231-ade02c76f23f"
      },
      "execution_count": 387,
      "outputs": [
        {
          "output_type": "stream",
          "name": "stdout",
          "text": [
            "['i', 'me', 'my', 'myself', 'we', 'our', 'ours', 'ourselves', 'you', \"you're\", \"you've\", \"you'll\", \"you'd\", 'your', 'yours', 'yourself', 'yourselves', 'he', 'him', 'his', 'himself', 'she', \"she's\", 'her', 'hers', 'herself', 'it', \"it's\", 'its', 'itself', 'they', 'them', 'their', 'theirs', 'themselves', 'what', 'which', 'who', 'whom', 'this', 'that', \"that'll\", 'these', 'those', 'am', 'is', 'are', 'was', 'were', 'be', 'been', 'being', 'have', 'has', 'had', 'having', 'do', 'does', 'did', 'doing', 'a', 'an', 'the', 'and', 'but', 'if', 'or', 'because', 'as', 'until', 'while', 'of', 'at', 'by', 'for', 'with', 'about', 'against', 'between', 'into', 'through', 'during', 'before', 'after', 'above', 'below', 'to', 'from', 'up', 'down', 'in', 'out', 'on', 'off', 'over', 'under', 'again', 'further', 'then', 'once', 'here', 'there', 'when', 'where', 'why', 'how', 'all', 'any', 'both', 'each', 'few', 'more', 'most', 'other', 'some', 'such', 'no', 'nor', 'not', 'only', 'own', 'same', 'so', 'than', 'too', 'very', 's', 't', 'can', 'will', 'just', 'don', \"don't\", 'should', \"should've\", 'now', 'd', 'll', 'm', 'o', 're', 've', 'y', 'ain', 'aren', \"aren't\", 'couldn', \"couldn't\", 'didn', \"didn't\", 'doesn', \"doesn't\", 'hadn', \"hadn't\", 'hasn', \"hasn't\", 'haven', \"haven't\", 'isn', \"isn't\", 'ma', 'mightn', \"mightn't\", 'mustn', \"mustn't\", 'needn', \"needn't\", 'shan', \"shan't\", 'shouldn', \"shouldn't\", 'wasn', \"wasn't\", 'weren', \"weren't\", 'won', \"won't\", 'wouldn', \"wouldn't\"]\n"
          ]
        }
      ]
    },
    {
      "cell_type": "markdown",
      "source": [
        "#data collection and data exploration"
      ],
      "metadata": {
        "id": "gUsUn5h7lx5t"
      }
    },
    {
      "cell_type": "code",
      "source": [
        "df=pd.read_csv('/content/drive/MyDrive/fake-news/train.csv')"
      ],
      "metadata": {
        "id": "d_rYKkoQmSgg"
      },
      "execution_count": 388,
      "outputs": []
    },
    {
      "cell_type": "code",
      "source": [
        "df.head()"
      ],
      "metadata": {
        "colab": {
          "base_uri": "https://localhost:8080/",
          "height": 206
        },
        "id": "A2asEcPNDPo6",
        "outputId": "a65aedec-470d-437c-9319-925ef10b15a8"
      },
      "execution_count": 389,
      "outputs": [
        {
          "output_type": "execute_result",
          "data": {
            "text/plain": [
              "   id                                              title              author  \\\n",
              "0   0  House Dem Aide: We Didn’t Even See Comey’s Let...       Darrell Lucus   \n",
              "1   1  FLYNN: Hillary Clinton, Big Woman on Campus - ...     Daniel J. Flynn   \n",
              "2   2                  Why the Truth Might Get You Fired  Consortiumnews.com   \n",
              "3   3  15 Civilians Killed In Single US Airstrike Hav...     Jessica Purkiss   \n",
              "4   4  Iranian woman jailed for fictional unpublished...      Howard Portnoy   \n",
              "\n",
              "                                                text  label  \n",
              "0  House Dem Aide: We Didn’t Even See Comey’s Let...      1  \n",
              "1  Ever get the feeling your life circles the rou...      0  \n",
              "2  Why the Truth Might Get You Fired October 29, ...      1  \n",
              "3  Videos 15 Civilians Killed In Single US Airstr...      1  \n",
              "4  Print \\nAn Iranian woman has been sentenced to...      1  "
            ],
            "text/html": [
              "\n",
              "  <div id=\"df-c6ef4e75-8270-40c2-9395-eb28d968ed3f\">\n",
              "    <div class=\"colab-df-container\">\n",
              "      <div>\n",
              "<style scoped>\n",
              "    .dataframe tbody tr th:only-of-type {\n",
              "        vertical-align: middle;\n",
              "    }\n",
              "\n",
              "    .dataframe tbody tr th {\n",
              "        vertical-align: top;\n",
              "    }\n",
              "\n",
              "    .dataframe thead th {\n",
              "        text-align: right;\n",
              "    }\n",
              "</style>\n",
              "<table border=\"1\" class=\"dataframe\">\n",
              "  <thead>\n",
              "    <tr style=\"text-align: right;\">\n",
              "      <th></th>\n",
              "      <th>id</th>\n",
              "      <th>title</th>\n",
              "      <th>author</th>\n",
              "      <th>text</th>\n",
              "      <th>label</th>\n",
              "    </tr>\n",
              "  </thead>\n",
              "  <tbody>\n",
              "    <tr>\n",
              "      <th>0</th>\n",
              "      <td>0</td>\n",
              "      <td>House Dem Aide: We Didn’t Even See Comey’s Let...</td>\n",
              "      <td>Darrell Lucus</td>\n",
              "      <td>House Dem Aide: We Didn’t Even See Comey’s Let...</td>\n",
              "      <td>1</td>\n",
              "    </tr>\n",
              "    <tr>\n",
              "      <th>1</th>\n",
              "      <td>1</td>\n",
              "      <td>FLYNN: Hillary Clinton, Big Woman on Campus - ...</td>\n",
              "      <td>Daniel J. Flynn</td>\n",
              "      <td>Ever get the feeling your life circles the rou...</td>\n",
              "      <td>0</td>\n",
              "    </tr>\n",
              "    <tr>\n",
              "      <th>2</th>\n",
              "      <td>2</td>\n",
              "      <td>Why the Truth Might Get You Fired</td>\n",
              "      <td>Consortiumnews.com</td>\n",
              "      <td>Why the Truth Might Get You Fired October 29, ...</td>\n",
              "      <td>1</td>\n",
              "    </tr>\n",
              "    <tr>\n",
              "      <th>3</th>\n",
              "      <td>3</td>\n",
              "      <td>15 Civilians Killed In Single US Airstrike Hav...</td>\n",
              "      <td>Jessica Purkiss</td>\n",
              "      <td>Videos 15 Civilians Killed In Single US Airstr...</td>\n",
              "      <td>1</td>\n",
              "    </tr>\n",
              "    <tr>\n",
              "      <th>4</th>\n",
              "      <td>4</td>\n",
              "      <td>Iranian woman jailed for fictional unpublished...</td>\n",
              "      <td>Howard Portnoy</td>\n",
              "      <td>Print \\nAn Iranian woman has been sentenced to...</td>\n",
              "      <td>1</td>\n",
              "    </tr>\n",
              "  </tbody>\n",
              "</table>\n",
              "</div>\n",
              "      <button class=\"colab-df-convert\" onclick=\"convertToInteractive('df-c6ef4e75-8270-40c2-9395-eb28d968ed3f')\"\n",
              "              title=\"Convert this dataframe to an interactive table.\"\n",
              "              style=\"display:none;\">\n",
              "        \n",
              "  <svg xmlns=\"http://www.w3.org/2000/svg\" height=\"24px\"viewBox=\"0 0 24 24\"\n",
              "       width=\"24px\">\n",
              "    <path d=\"M0 0h24v24H0V0z\" fill=\"none\"/>\n",
              "    <path d=\"M18.56 5.44l.94 2.06.94-2.06 2.06-.94-2.06-.94-.94-2.06-.94 2.06-2.06.94zm-11 1L8.5 8.5l.94-2.06 2.06-.94-2.06-.94L8.5 2.5l-.94 2.06-2.06.94zm10 10l.94 2.06.94-2.06 2.06-.94-2.06-.94-.94-2.06-.94 2.06-2.06.94z\"/><path d=\"M17.41 7.96l-1.37-1.37c-.4-.4-.92-.59-1.43-.59-.52 0-1.04.2-1.43.59L10.3 9.45l-7.72 7.72c-.78.78-.78 2.05 0 2.83L4 21.41c.39.39.9.59 1.41.59.51 0 1.02-.2 1.41-.59l7.78-7.78 2.81-2.81c.8-.78.8-2.07 0-2.86zM5.41 20L4 18.59l7.72-7.72 1.47 1.35L5.41 20z\"/>\n",
              "  </svg>\n",
              "      </button>\n",
              "      \n",
              "  <style>\n",
              "    .colab-df-container {\n",
              "      display:flex;\n",
              "      flex-wrap:wrap;\n",
              "      gap: 12px;\n",
              "    }\n",
              "\n",
              "    .colab-df-convert {\n",
              "      background-color: #E8F0FE;\n",
              "      border: none;\n",
              "      border-radius: 50%;\n",
              "      cursor: pointer;\n",
              "      display: none;\n",
              "      fill: #1967D2;\n",
              "      height: 32px;\n",
              "      padding: 0 0 0 0;\n",
              "      width: 32px;\n",
              "    }\n",
              "\n",
              "    .colab-df-convert:hover {\n",
              "      background-color: #E2EBFA;\n",
              "      box-shadow: 0px 1px 2px rgba(60, 64, 67, 0.3), 0px 1px 3px 1px rgba(60, 64, 67, 0.15);\n",
              "      fill: #174EA6;\n",
              "    }\n",
              "\n",
              "    [theme=dark] .colab-df-convert {\n",
              "      background-color: #3B4455;\n",
              "      fill: #D2E3FC;\n",
              "    }\n",
              "\n",
              "    [theme=dark] .colab-df-convert:hover {\n",
              "      background-color: #434B5C;\n",
              "      box-shadow: 0px 1px 3px 1px rgba(0, 0, 0, 0.15);\n",
              "      filter: drop-shadow(0px 1px 2px rgba(0, 0, 0, 0.3));\n",
              "      fill: #FFFFFF;\n",
              "    }\n",
              "  </style>\n",
              "\n",
              "      <script>\n",
              "        const buttonEl =\n",
              "          document.querySelector('#df-c6ef4e75-8270-40c2-9395-eb28d968ed3f button.colab-df-convert');\n",
              "        buttonEl.style.display =\n",
              "          google.colab.kernel.accessAllowed ? 'block' : 'none';\n",
              "\n",
              "        async function convertToInteractive(key) {\n",
              "          const element = document.querySelector('#df-c6ef4e75-8270-40c2-9395-eb28d968ed3f');\n",
              "          const dataTable =\n",
              "            await google.colab.kernel.invokeFunction('convertToInteractive',\n",
              "                                                     [key], {});\n",
              "          if (!dataTable) return;\n",
              "\n",
              "          const docLinkHtml = 'Like what you see? Visit the ' +\n",
              "            '<a target=\"_blank\" href=https://colab.research.google.com/notebooks/data_table.ipynb>data table notebook</a>'\n",
              "            + ' to learn more about interactive tables.';\n",
              "          element.innerHTML = '';\n",
              "          dataTable['output_type'] = 'display_data';\n",
              "          await google.colab.output.renderOutput(dataTable, element);\n",
              "          const docLink = document.createElement('div');\n",
              "          docLink.innerHTML = docLinkHtml;\n",
              "          element.appendChild(docLink);\n",
              "        }\n",
              "      </script>\n",
              "    </div>\n",
              "  </div>\n",
              "  "
            ]
          },
          "metadata": {},
          "execution_count": 389
        }
      ]
    },
    {
      "cell_type": "code",
      "source": [
        "df.shape"
      ],
      "metadata": {
        "colab": {
          "base_uri": "https://localhost:8080/"
        },
        "id": "6jaCcssQDVDt",
        "outputId": "b5178fd8-49fb-4b40-c056-c8d5419434de"
      },
      "execution_count": 390,
      "outputs": [
        {
          "output_type": "execute_result",
          "data": {
            "text/plain": [
              "(20800, 5)"
            ]
          },
          "metadata": {},
          "execution_count": 390
        }
      ]
    },
    {
      "cell_type": "markdown",
      "source": [
        "#data cleaning"
      ],
      "metadata": {
        "id": "7-TqPOP7Dxwl"
      }
    },
    {
      "cell_type": "code",
      "source": [
        "# checking duplicates in dataset\n",
        "df.isnull().sum()"
      ],
      "metadata": {
        "colab": {
          "base_uri": "https://localhost:8080/"
        },
        "id": "5emsznCIDZT_",
        "outputId": "2345865b-019f-4b5c-fd16-e80cfd08ce62"
      },
      "execution_count": 391,
      "outputs": [
        {
          "output_type": "execute_result",
          "data": {
            "text/plain": [
              "id           0\n",
              "title      558\n",
              "author    1957\n",
              "text        39\n",
              "label        0\n",
              "dtype: int64"
            ]
          },
          "metadata": {},
          "execution_count": 391
        }
      ]
    },
    {
      "cell_type": "code",
      "source": [
        "#replace the null value with the empty string\n",
        "df=df.fillna('')"
      ],
      "metadata": {
        "id": "BmCdQPxdD2kz"
      },
      "execution_count": 392,
      "outputs": []
    },
    {
      "cell_type": "code",
      "source": [
        "df.isnull().sum()"
      ],
      "metadata": {
        "colab": {
          "base_uri": "https://localhost:8080/"
        },
        "id": "Ed2MSO6-D_39",
        "outputId": "7bd566e1-1030-4a78-fd8b-c6c5edecac4c"
      },
      "execution_count": 393,
      "outputs": [
        {
          "output_type": "execute_result",
          "data": {
            "text/plain": [
              "id        0\n",
              "title     0\n",
              "author    0\n",
              "text      0\n",
              "label     0\n",
              "dtype: int64"
            ]
          },
          "metadata": {},
          "execution_count": 393
        }
      ]
    },
    {
      "cell_type": "code",
      "source": [
        "#combining the author and title attributes for prediction\n",
        "df['content']=df['author']+' '+df['title']"
      ],
      "metadata": {
        "id": "C_jLk-grEBw5"
      },
      "execution_count": 394,
      "outputs": []
    },
    {
      "cell_type": "code",
      "source": [
        "print(df['content'])"
      ],
      "metadata": {
        "colab": {
          "base_uri": "https://localhost:8080/"
        },
        "id": "zuyO_fdOEQa4",
        "outputId": "3657a7cd-d471-4299-d9c0-a5203392282e"
      },
      "execution_count": 395,
      "outputs": [
        {
          "output_type": "stream",
          "name": "stdout",
          "text": [
            "0        Darrell Lucus House Dem Aide: We Didn’t Even S...\n",
            "1        Daniel J. Flynn FLYNN: Hillary Clinton, Big Wo...\n",
            "2        Consortiumnews.com Why the Truth Might Get You...\n",
            "3        Jessica Purkiss 15 Civilians Killed In Single ...\n",
            "4        Howard Portnoy Iranian woman jailed for fictio...\n",
            "                               ...                        \n",
            "20795    Jerome Hudson Rapper T.I.: Trump a ’Poster Chi...\n",
            "20796    Benjamin Hoffman N.F.L. Playoffs: Schedule, Ma...\n",
            "20797    Michael J. de la Merced and Rachel Abrams Macy...\n",
            "20798    Alex Ansary NATO, Russia To Hold Parallel Exer...\n",
            "20799              David Swanson What Keeps the F-35 Alive\n",
            "Name: content, Length: 20800, dtype: object\n"
          ]
        }
      ]
    },
    {
      "cell_type": "code",
      "source": [
        "df.head()"
      ],
      "metadata": {
        "colab": {
          "base_uri": "https://localhost:8080/",
          "height": 337
        },
        "id": "xO1RWlqlILCw",
        "outputId": "d1b50f73-3e8a-4d13-9a1f-be45788bce80"
      },
      "execution_count": 396,
      "outputs": [
        {
          "output_type": "execute_result",
          "data": {
            "text/plain": [
              "   id                                              title              author  \\\n",
              "0   0  House Dem Aide: We Didn’t Even See Comey’s Let...       Darrell Lucus   \n",
              "1   1  FLYNN: Hillary Clinton, Big Woman on Campus - ...     Daniel J. Flynn   \n",
              "2   2                  Why the Truth Might Get You Fired  Consortiumnews.com   \n",
              "3   3  15 Civilians Killed In Single US Airstrike Hav...     Jessica Purkiss   \n",
              "4   4  Iranian woman jailed for fictional unpublished...      Howard Portnoy   \n",
              "\n",
              "                                                text  label  \\\n",
              "0  House Dem Aide: We Didn’t Even See Comey’s Let...      1   \n",
              "1  Ever get the feeling your life circles the rou...      0   \n",
              "2  Why the Truth Might Get You Fired October 29, ...      1   \n",
              "3  Videos 15 Civilians Killed In Single US Airstr...      1   \n",
              "4  Print \\nAn Iranian woman has been sentenced to...      1   \n",
              "\n",
              "                                             content  \n",
              "0  Darrell Lucus House Dem Aide: We Didn’t Even S...  \n",
              "1  Daniel J. Flynn FLYNN: Hillary Clinton, Big Wo...  \n",
              "2  Consortiumnews.com Why the Truth Might Get You...  \n",
              "3  Jessica Purkiss 15 Civilians Killed In Single ...  \n",
              "4  Howard Portnoy Iranian woman jailed for fictio...  "
            ],
            "text/html": [
              "\n",
              "  <div id=\"df-41372f86-8f2e-41eb-86ff-75748696a792\">\n",
              "    <div class=\"colab-df-container\">\n",
              "      <div>\n",
              "<style scoped>\n",
              "    .dataframe tbody tr th:only-of-type {\n",
              "        vertical-align: middle;\n",
              "    }\n",
              "\n",
              "    .dataframe tbody tr th {\n",
              "        vertical-align: top;\n",
              "    }\n",
              "\n",
              "    .dataframe thead th {\n",
              "        text-align: right;\n",
              "    }\n",
              "</style>\n",
              "<table border=\"1\" class=\"dataframe\">\n",
              "  <thead>\n",
              "    <tr style=\"text-align: right;\">\n",
              "      <th></th>\n",
              "      <th>id</th>\n",
              "      <th>title</th>\n",
              "      <th>author</th>\n",
              "      <th>text</th>\n",
              "      <th>label</th>\n",
              "      <th>content</th>\n",
              "    </tr>\n",
              "  </thead>\n",
              "  <tbody>\n",
              "    <tr>\n",
              "      <th>0</th>\n",
              "      <td>0</td>\n",
              "      <td>House Dem Aide: We Didn’t Even See Comey’s Let...</td>\n",
              "      <td>Darrell Lucus</td>\n",
              "      <td>House Dem Aide: We Didn’t Even See Comey’s Let...</td>\n",
              "      <td>1</td>\n",
              "      <td>Darrell Lucus House Dem Aide: We Didn’t Even S...</td>\n",
              "    </tr>\n",
              "    <tr>\n",
              "      <th>1</th>\n",
              "      <td>1</td>\n",
              "      <td>FLYNN: Hillary Clinton, Big Woman on Campus - ...</td>\n",
              "      <td>Daniel J. Flynn</td>\n",
              "      <td>Ever get the feeling your life circles the rou...</td>\n",
              "      <td>0</td>\n",
              "      <td>Daniel J. Flynn FLYNN: Hillary Clinton, Big Wo...</td>\n",
              "    </tr>\n",
              "    <tr>\n",
              "      <th>2</th>\n",
              "      <td>2</td>\n",
              "      <td>Why the Truth Might Get You Fired</td>\n",
              "      <td>Consortiumnews.com</td>\n",
              "      <td>Why the Truth Might Get You Fired October 29, ...</td>\n",
              "      <td>1</td>\n",
              "      <td>Consortiumnews.com Why the Truth Might Get You...</td>\n",
              "    </tr>\n",
              "    <tr>\n",
              "      <th>3</th>\n",
              "      <td>3</td>\n",
              "      <td>15 Civilians Killed In Single US Airstrike Hav...</td>\n",
              "      <td>Jessica Purkiss</td>\n",
              "      <td>Videos 15 Civilians Killed In Single US Airstr...</td>\n",
              "      <td>1</td>\n",
              "      <td>Jessica Purkiss 15 Civilians Killed In Single ...</td>\n",
              "    </tr>\n",
              "    <tr>\n",
              "      <th>4</th>\n",
              "      <td>4</td>\n",
              "      <td>Iranian woman jailed for fictional unpublished...</td>\n",
              "      <td>Howard Portnoy</td>\n",
              "      <td>Print \\nAn Iranian woman has been sentenced to...</td>\n",
              "      <td>1</td>\n",
              "      <td>Howard Portnoy Iranian woman jailed for fictio...</td>\n",
              "    </tr>\n",
              "  </tbody>\n",
              "</table>\n",
              "</div>\n",
              "      <button class=\"colab-df-convert\" onclick=\"convertToInteractive('df-41372f86-8f2e-41eb-86ff-75748696a792')\"\n",
              "              title=\"Convert this dataframe to an interactive table.\"\n",
              "              style=\"display:none;\">\n",
              "        \n",
              "  <svg xmlns=\"http://www.w3.org/2000/svg\" height=\"24px\"viewBox=\"0 0 24 24\"\n",
              "       width=\"24px\">\n",
              "    <path d=\"M0 0h24v24H0V0z\" fill=\"none\"/>\n",
              "    <path d=\"M18.56 5.44l.94 2.06.94-2.06 2.06-.94-2.06-.94-.94-2.06-.94 2.06-2.06.94zm-11 1L8.5 8.5l.94-2.06 2.06-.94-2.06-.94L8.5 2.5l-.94 2.06-2.06.94zm10 10l.94 2.06.94-2.06 2.06-.94-2.06-.94-.94-2.06-.94 2.06-2.06.94z\"/><path d=\"M17.41 7.96l-1.37-1.37c-.4-.4-.92-.59-1.43-.59-.52 0-1.04.2-1.43.59L10.3 9.45l-7.72 7.72c-.78.78-.78 2.05 0 2.83L4 21.41c.39.39.9.59 1.41.59.51 0 1.02-.2 1.41-.59l7.78-7.78 2.81-2.81c.8-.78.8-2.07 0-2.86zM5.41 20L4 18.59l7.72-7.72 1.47 1.35L5.41 20z\"/>\n",
              "  </svg>\n",
              "      </button>\n",
              "      \n",
              "  <style>\n",
              "    .colab-df-container {\n",
              "      display:flex;\n",
              "      flex-wrap:wrap;\n",
              "      gap: 12px;\n",
              "    }\n",
              "\n",
              "    .colab-df-convert {\n",
              "      background-color: #E8F0FE;\n",
              "      border: none;\n",
              "      border-radius: 50%;\n",
              "      cursor: pointer;\n",
              "      display: none;\n",
              "      fill: #1967D2;\n",
              "      height: 32px;\n",
              "      padding: 0 0 0 0;\n",
              "      width: 32px;\n",
              "    }\n",
              "\n",
              "    .colab-df-convert:hover {\n",
              "      background-color: #E2EBFA;\n",
              "      box-shadow: 0px 1px 2px rgba(60, 64, 67, 0.3), 0px 1px 3px 1px rgba(60, 64, 67, 0.15);\n",
              "      fill: #174EA6;\n",
              "    }\n",
              "\n",
              "    [theme=dark] .colab-df-convert {\n",
              "      background-color: #3B4455;\n",
              "      fill: #D2E3FC;\n",
              "    }\n",
              "\n",
              "    [theme=dark] .colab-df-convert:hover {\n",
              "      background-color: #434B5C;\n",
              "      box-shadow: 0px 1px 3px 1px rgba(0, 0, 0, 0.15);\n",
              "      filter: drop-shadow(0px 1px 2px rgba(0, 0, 0, 0.3));\n",
              "      fill: #FFFFFF;\n",
              "    }\n",
              "  </style>\n",
              "\n",
              "      <script>\n",
              "        const buttonEl =\n",
              "          document.querySelector('#df-41372f86-8f2e-41eb-86ff-75748696a792 button.colab-df-convert');\n",
              "        buttonEl.style.display =\n",
              "          google.colab.kernel.accessAllowed ? 'block' : 'none';\n",
              "\n",
              "        async function convertToInteractive(key) {\n",
              "          const element = document.querySelector('#df-41372f86-8f2e-41eb-86ff-75748696a792');\n",
              "          const dataTable =\n",
              "            await google.colab.kernel.invokeFunction('convertToInteractive',\n",
              "                                                     [key], {});\n",
              "          if (!dataTable) return;\n",
              "\n",
              "          const docLinkHtml = 'Like what you see? Visit the ' +\n",
              "            '<a target=\"_blank\" href=https://colab.research.google.com/notebooks/data_table.ipynb>data table notebook</a>'\n",
              "            + ' to learn more about interactive tables.';\n",
              "          element.innerHTML = '';\n",
              "          dataTable['output_type'] = 'display_data';\n",
              "          await google.colab.output.renderOutput(dataTable, element);\n",
              "          const docLink = document.createElement('div');\n",
              "          docLink.innerHTML = docLinkHtml;\n",
              "          element.appendChild(docLink);\n",
              "        }\n",
              "      </script>\n",
              "    </div>\n",
              "  </div>\n",
              "  "
            ]
          },
          "metadata": {},
          "execution_count": 396
        }
      ]
    },
    {
      "cell_type": "code",
      "source": [
        "#separating the x and y\n",
        "x= df.drop(columns='label', axis=1)\n",
        "y= df['label']"
      ],
      "metadata": {
        "id": "8pGp0FgbEuG2"
      },
      "execution_count": 397,
      "outputs": []
    },
    {
      "cell_type": "code",
      "source": [
        "print(x)\n",
        "print(y)"
      ],
      "metadata": {
        "colab": {
          "base_uri": "https://localhost:8080/"
        },
        "id": "_wgmKR-KG9ep",
        "outputId": "ca0a1b35-340c-47d5-b401-14ceb0624be5"
      },
      "execution_count": 398,
      "outputs": [
        {
          "output_type": "stream",
          "name": "stdout",
          "text": [
            "          id                                              title  \\\n",
            "0          0  House Dem Aide: We Didn’t Even See Comey’s Let...   \n",
            "1          1  FLYNN: Hillary Clinton, Big Woman on Campus - ...   \n",
            "2          2                  Why the Truth Might Get You Fired   \n",
            "3          3  15 Civilians Killed In Single US Airstrike Hav...   \n",
            "4          4  Iranian woman jailed for fictional unpublished...   \n",
            "...      ...                                                ...   \n",
            "20795  20795  Rapper T.I.: Trump a ’Poster Child For White S...   \n",
            "20796  20796  N.F.L. Playoffs: Schedule, Matchups and Odds -...   \n",
            "20797  20797  Macy’s Is Said to Receive Takeover Approach by...   \n",
            "20798  20798  NATO, Russia To Hold Parallel Exercises In Bal...   \n",
            "20799  20799                          What Keeps the F-35 Alive   \n",
            "\n",
            "                                          author  \\\n",
            "0                                  Darrell Lucus   \n",
            "1                                Daniel J. Flynn   \n",
            "2                             Consortiumnews.com   \n",
            "3                                Jessica Purkiss   \n",
            "4                                 Howard Portnoy   \n",
            "...                                          ...   \n",
            "20795                              Jerome Hudson   \n",
            "20796                           Benjamin Hoffman   \n",
            "20797  Michael J. de la Merced and Rachel Abrams   \n",
            "20798                                Alex Ansary   \n",
            "20799                              David Swanson   \n",
            "\n",
            "                                                    text  \\\n",
            "0      House Dem Aide: We Didn’t Even See Comey’s Let...   \n",
            "1      Ever get the feeling your life circles the rou...   \n",
            "2      Why the Truth Might Get You Fired October 29, ...   \n",
            "3      Videos 15 Civilians Killed In Single US Airstr...   \n",
            "4      Print \\nAn Iranian woman has been sentenced to...   \n",
            "...                                                  ...   \n",
            "20795  Rapper T. I. unloaded on black celebrities who...   \n",
            "20796  When the Green Bay Packers lost to the Washing...   \n",
            "20797  The Macy’s of today grew from the union of sev...   \n",
            "20798  NATO, Russia To Hold Parallel Exercises In Bal...   \n",
            "20799    David Swanson is an author, activist, journa...   \n",
            "\n",
            "                                                 content  \n",
            "0      Darrell Lucus House Dem Aide: We Didn’t Even S...  \n",
            "1      Daniel J. Flynn FLYNN: Hillary Clinton, Big Wo...  \n",
            "2      Consortiumnews.com Why the Truth Might Get You...  \n",
            "3      Jessica Purkiss 15 Civilians Killed In Single ...  \n",
            "4      Howard Portnoy Iranian woman jailed for fictio...  \n",
            "...                                                  ...  \n",
            "20795  Jerome Hudson Rapper T.I.: Trump a ’Poster Chi...  \n",
            "20796  Benjamin Hoffman N.F.L. Playoffs: Schedule, Ma...  \n",
            "20797  Michael J. de la Merced and Rachel Abrams Macy...  \n",
            "20798  Alex Ansary NATO, Russia To Hold Parallel Exer...  \n",
            "20799            David Swanson What Keeps the F-35 Alive  \n",
            "\n",
            "[20800 rows x 5 columns]\n",
            "0        1\n",
            "1        0\n",
            "2        1\n",
            "3        1\n",
            "4        1\n",
            "        ..\n",
            "20795    0\n",
            "20796    0\n",
            "20797    0\n",
            "20798    1\n",
            "20799    1\n",
            "Name: label, Length: 20800, dtype: int64\n"
          ]
        }
      ]
    },
    {
      "cell_type": "markdown",
      "source": [
        "visualization"
      ],
      "metadata": {
        "id": "LX2roOiNlnfP"
      }
    },
    {
      "cell_type": "code",
      "source": [
        "import matplotlib.pyplot as plt\n",
        "import seaborn as sns"
      ],
      "metadata": {
        "id": "wSB1Twf2knjx"
      },
      "execution_count": 399,
      "outputs": []
    },
    {
      "cell_type": "code",
      "source": [
        "plt.figure(figsize=(14,6))\n",
        "plt.hist(df[\"label\"])\n",
        "plt.show()"
      ],
      "metadata": {
        "colab": {
          "base_uri": "https://localhost:8080/",
          "height": 374
        },
        "id": "RzMAztnUk2sY",
        "outputId": "539c03a6-cc22-40a5-ade6-73405f61dd1d"
      },
      "execution_count": 400,
      "outputs": [
        {
          "output_type": "display_data",
          "data": {
            "text/plain": [
              "<Figure size 1008x432 with 1 Axes>"
            ],
            "image/png": "[encoded data removed]"
          },
          "metadata": {
            "needs_background": "light"
          }
        }
      ]
    },
    {
      "cell_type": "markdown",
      "source": [
        "#stemming"
      ],
      "metadata": {
        "id": "1vsHF0wRN4ly"
      }
    },
    {
      "cell_type": "markdown",
      "source": [
        "Stemming is the process of reducing a word to its stem that affixes to suffixes and prefixes or to the roots of words known as \"lemmas\". Stemming is important in natural language understanding (NLU) and natural language processing (NLP).\n",
        "\n",
        "\n",
        "example: actor, actress, acting --> act"
      ],
      "metadata": {
        "id": "QNtv9P8Udsje"
      }
    },
    {
      "cell_type": "code",
      "source": [
        "# importing the regular expression -- to predict the word is present or not in text\n",
        "#importing the poster stemmer -- to remove the suffixes and prefixes\n",
        "import re\n",
        "from nltk.stem.porter import PorterStemmer\n",
        "port_stem=PorterStemmer()"
      ],
      "metadata": {
        "id": "RhOYuNFZG-pb"
      },
      "execution_count": 401,
      "outputs": []
    },
    {
      "cell_type": "code",
      "source": [
        "# here i def function to remove the number,symbols present in text\n",
        "def stemming(content):\n",
        "    stemmed_content = re.sub('[^a-zA-Z]',' ',content)\n",
        "    stemmed_content = stemmed_content.lower()\n",
        "    stemmed_content = stemmed_content.split()\n",
        "    stemmed_content = [port_stem.stem(word) for word in stemmed_content if not word in stopwords.words('english')]\n",
        "    stemmed_content = ' '.join(stemmed_content)\n",
        "    return stemmed_content"
      ],
      "metadata": {
        "id": "0LkhqM9KN73O"
      },
      "execution_count": 402,
      "outputs": []
    },
    {
      "cell_type": "code",
      "source": [
        "# here i apply thye function in content\n",
        "df['content'] = df['content'].apply(stemming)"
      ],
      "metadata": {
        "id": "83AI7A-QPp2n"
      },
      "execution_count": 403,
      "outputs": []
    },
    {
      "cell_type": "code",
      "source": [
        "print(df['content'])"
      ],
      "metadata": {
        "colab": {
          "base_uri": "https://localhost:8080/"
        },
        "id": "EopNzbiNQ26e",
        "outputId": "5c38ae48-77f2-4d48-e11a-0d4efa1ab6ab"
      },
      "execution_count": 404,
      "outputs": [
        {
          "output_type": "stream",
          "name": "stdout",
          "text": [
            "0        darrel lucu hous dem aid even see comey letter...\n",
            "1        daniel j flynn flynn hillari clinton big woman...\n",
            "2                   consortiumnew com truth might get fire\n",
            "3        jessica purkiss civilian kill singl us airstri...\n",
            "4        howard portnoy iranian woman jail fiction unpu...\n",
            "                               ...                        \n",
            "20795    jerom hudson rapper trump poster child white s...\n",
            "20796    benjamin hoffman n f l playoff schedul matchup...\n",
            "20797    michael j de la merc rachel abram maci said re...\n",
            "20798    alex ansari nato russia hold parallel exercis ...\n",
            "20799                            david swanson keep f aliv\n",
            "Name: content, Length: 20800, dtype: object\n"
          ]
        }
      ]
    },
    {
      "cell_type": "code",
      "source": [
        "# separating x and y\n",
        "x=df['content'].values"
      ],
      "metadata": {
        "id": "E-ZcxQ5WS0Dv"
      },
      "execution_count": 405,
      "outputs": []
    },
    {
      "cell_type": "code",
      "source": [
        "x"
      ],
      "metadata": {
        "colab": {
          "base_uri": "https://localhost:8080/"
        },
        "id": "DAYahyT_exk4",
        "outputId": "7ae17423-cb3f-4491-b720-a58c02cf7793"
      },
      "execution_count": 406,
      "outputs": [
        {
          "output_type": "execute_result",
          "data": {
            "text/plain": [
              "array(['darrel lucu hous dem aid even see comey letter jason chaffetz tweet',\n",
              "       'daniel j flynn flynn hillari clinton big woman campu breitbart',\n",
              "       'consortiumnew com truth might get fire', ...,\n",
              "       'michael j de la merc rachel abram maci said receiv takeov approach hudson bay new york time',\n",
              "       'alex ansari nato russia hold parallel exercis balkan',\n",
              "       'david swanson keep f aliv'], dtype=object)"
            ]
          },
          "metadata": {},
          "execution_count": 406
        }
      ]
    },
    {
      "cell_type": "code",
      "source": [
        "y=df['label']"
      ],
      "metadata": {
        "id": "DUEOFqe_TLB7"
      },
      "execution_count": 407,
      "outputs": []
    },
    {
      "cell_type": "code",
      "source": [
        "y"
      ],
      "metadata": {
        "colab": {
          "base_uri": "https://localhost:8080/"
        },
        "id": "ASUiZqLmTO9L",
        "outputId": "3aabf170-8320-4e8d-e6aa-46ab88114f7b"
      },
      "execution_count": 408,
      "outputs": [
        {
          "output_type": "execute_result",
          "data": {
            "text/plain": [
              "0        1\n",
              "1        0\n",
              "2        1\n",
              "3        1\n",
              "4        1\n",
              "        ..\n",
              "20795    0\n",
              "20796    0\n",
              "20797    0\n",
              "20798    1\n",
              "20799    1\n",
              "Name: label, Length: 20800, dtype: int64"
            ]
          },
          "metadata": {},
          "execution_count": 408
        }
      ]
    },
    {
      "cell_type": "code",
      "source": [
        "x.shape"
      ],
      "metadata": {
        "colab": {
          "base_uri": "https://localhost:8080/"
        },
        "id": "SRjPnc5gTR5t",
        "outputId": "a7169e2e-2df1-4542-a3c7-72bd7bbd2a68"
      },
      "execution_count": 409,
      "outputs": [
        {
          "output_type": "execute_result",
          "data": {
            "text/plain": [
              "(20800,)"
            ]
          },
          "metadata": {},
          "execution_count": 409
        }
      ]
    },
    {
      "cell_type": "code",
      "source": [
        "y.shape"
      ],
      "metadata": {
        "colab": {
          "base_uri": "https://localhost:8080/"
        },
        "id": "TtoM1ivrTUcR",
        "outputId": "03890512-ebd1-4779-e50e-b5cf027a00e5"
      },
      "execution_count": 410,
      "outputs": [
        {
          "output_type": "execute_result",
          "data": {
            "text/plain": [
              "(20800,)"
            ]
          },
          "metadata": {},
          "execution_count": 410
        }
      ]
    },
    {
      "cell_type": "code",
      "source": [
        "# x value are in text so we want to convert them into number so i used TfidfVectorizer from feature_extraction\n",
        "from sklearn.feature_extraction.text import TfidfVectorizer\n",
        "vector=TfidfVectorizer()\n",
        "x=vector.fit_transform(x)"
      ],
      "metadata": {
        "id": "EBB3BTHYTshd"
      },
      "execution_count": 411,
      "outputs": []
    },
    {
      "cell_type": "code",
      "source": [
        "print(x)"
      ],
      "metadata": {
        "colab": {
          "base_uri": "https://localhost:8080/"
        },
        "id": "pM0uEQqXUDmY",
        "outputId": "728c62d2-3ebb-4b78-f62d-87f9d4357c92"
      },
      "execution_count": 412,
      "outputs": [
        {
          "output_type": "stream",
          "name": "stdout",
          "text": [
            "  (0, 15686)\t0.28485063562728646\n",
            "  (0, 2483)\t0.3676519686797209\n",
            "  (0, 7692)\t0.24785219520671603\n",
            "  (0, 8630)\t0.29212514087043684\n",
            "  (0, 2959)\t0.2468450128533713\n",
            "  (0, 13473)\t0.2565896679337957\n",
            "  (0, 4973)\t0.233316966909351\n",
            "  (0, 267)\t0.27010124977708766\n",
            "  (0, 3792)\t0.2705332480845492\n",
            "  (0, 7005)\t0.21874169089359144\n",
            "  (0, 8909)\t0.3635963806326075\n",
            "  (0, 3600)\t0.3598939188262559\n",
            "  (1, 1894)\t0.15521974226349364\n",
            "  (1, 2223)\t0.3827320386859759\n",
            "  (1, 16799)\t0.30071745655510157\n",
            "  (1, 1497)\t0.2939891562094648\n",
            "  (1, 2813)\t0.19094574062359204\n",
            "  (1, 6816)\t0.1904660198296849\n",
            "  (1, 5503)\t0.7143299355715573\n",
            "  (1, 3568)\t0.26373768806048464\n",
            "  (2, 5389)\t0.3866530551182615\n",
            "  (2, 5968)\t0.3474613386728292\n",
            "  (2, 9620)\t0.49351492943649944\n",
            "  (2, 15611)\t0.41544962664721613\n",
            "  (2, 2943)\t0.3179886800654691\n",
            "  :\t:\n",
            "  (20797, 1287)\t0.3353805680413986\n",
            "  (20797, 13122)\t0.24825263521976057\n",
            "  (20797, 12344)\t0.27263457663336677\n",
            "  (20797, 14967)\t0.3115945315488075\n",
            "  (20797, 12138)\t0.24778257724396505\n",
            "  (20797, 9518)\t0.29542040034203126\n",
            "  (20797, 8364)\t0.22322585870464115\n",
            "  (20797, 3643)\t0.2115550061362374\n",
            "  (20797, 7042)\t0.21799048897828685\n",
            "  (20797, 9588)\t0.17455348025522197\n",
            "  (20797, 15295)\t0.08159261204402356\n",
            "  (20797, 16996)\t0.08315655906109998\n",
            "  (20797, 10306)\t0.08038079000566466\n",
            "  (20798, 1125)\t0.4460515589182236\n",
            "  (20798, 5032)\t0.4083701450239529\n",
            "  (20798, 588)\t0.3112141524638974\n",
            "  (20798, 350)\t0.28446937819072576\n",
            "  (20798, 11052)\t0.4460515589182236\n",
            "  (20798, 6889)\t0.32496285694299426\n",
            "  (20798, 10177)\t0.3192496370187028\n",
            "  (20798, 13046)\t0.22363267488270608\n",
            "  (20799, 377)\t0.5677577267055112\n",
            "  (20799, 14852)\t0.5677577267055112\n",
            "  (20799, 3623)\t0.37927626273066584\n",
            "  (20799, 8036)\t0.45983893273780013\n"
          ]
        }
      ]
    },
    {
      "cell_type": "code",
      "source": [
        "y"
      ],
      "metadata": {
        "colab": {
          "base_uri": "https://localhost:8080/"
        },
        "id": "7xcNVleJUcru",
        "outputId": "458ba40f-febf-4b6f-9278-fb2810328090"
      },
      "execution_count": 413,
      "outputs": [
        {
          "output_type": "execute_result",
          "data": {
            "text/plain": [
              "0        1\n",
              "1        0\n",
              "2        1\n",
              "3        1\n",
              "4        1\n",
              "        ..\n",
              "20795    0\n",
              "20796    0\n",
              "20797    0\n",
              "20798    1\n",
              "20799    1\n",
              "Name: label, Length: 20800, dtype: int64"
            ]
          },
          "metadata": {},
          "execution_count": 413
        }
      ]
    },
    {
      "cell_type": "markdown",
      "source": [
        "#sepating the dataset"
      ],
      "metadata": {
        "id": "g8nK4GonfJUP"
      }
    },
    {
      "cell_type": "code",
      "source": [
        "from sklearn. model_selection import train_test_split\n",
        "x_train,x_test,y_train,y_test=train_test_split(x,y,train_size=0.8,stratify=y,random_state=2)"
      ],
      "metadata": {
        "id": "jjNzjuBQUhQS"
      },
      "execution_count": 414,
      "outputs": []
    },
    {
      "cell_type": "code",
      "source": [
        "x_train.shape"
      ],
      "metadata": {
        "colab": {
          "base_uri": "https://localhost:8080/"
        },
        "id": "VWHrs2zPYySD",
        "outputId": "78319496-d063-480e-8b48-b22ca55e13a3"
      },
      "execution_count": 415,
      "outputs": [
        {
          "output_type": "execute_result",
          "data": {
            "text/plain": [
              "(16640, 17128)"
            ]
          },
          "metadata": {},
          "execution_count": 415
        }
      ]
    },
    {
      "cell_type": "code",
      "source": [
        "y_train.shape"
      ],
      "metadata": {
        "colab": {
          "base_uri": "https://localhost:8080/"
        },
        "id": "iYrLCZzbZWzn",
        "outputId": "88859eb4-6b06-4b4e-ba01-266e34f53750"
      },
      "execution_count": 416,
      "outputs": [
        {
          "output_type": "execute_result",
          "data": {
            "text/plain": [
              "(16640,)"
            ]
          },
          "metadata": {},
          "execution_count": 416
        }
      ]
    },
    {
      "cell_type": "code",
      "source": [
        "x_test.shape"
      ],
      "metadata": {
        "colab": {
          "base_uri": "https://localhost:8080/"
        },
        "id": "0EwP_kmIZan-",
        "outputId": "70ffe8b8-e864-48f7-98aa-4ca457644b70"
      },
      "execution_count": 417,
      "outputs": [
        {
          "output_type": "execute_result",
          "data": {
            "text/plain": [
              "(4160, 17128)"
            ]
          },
          "metadata": {},
          "execution_count": 417
        }
      ]
    },
    {
      "cell_type": "markdown",
      "source": [
        "#LogisticRegression"
      ],
      "metadata": {
        "id": "hJxrIiALfN7x"
      }
    },
    {
      "cell_type": "code",
      "source": [
        "from sklearn.linear_model import LogisticRegression\n",
        "model=LogisticRegression()"
      ],
      "metadata": {
        "id": "KD4ZfEH3Uwyu"
      },
      "execution_count": 418,
      "outputs": []
    },
    {
      "cell_type": "code",
      "source": [
        "# fitting the model\n",
        "model.fit(x_train,y_train)"
      ],
      "metadata": {
        "colab": {
          "base_uri": "https://localhost:8080/"
        },
        "id": "-KZBhMFLV3rQ",
        "outputId": "30f7a607-bd4e-4cc6-87d1-c32c3a019512"
      },
      "execution_count": 419,
      "outputs": [
        {
          "output_type": "execute_result",
          "data": {
            "text/plain": [
              "LogisticRegression()"
            ]
          },
          "metadata": {},
          "execution_count": 419
        }
      ]
    },
    {
      "cell_type": "markdown",
      "source": [
        "#prediction using test data "
      ],
      "metadata": {
        "id": "tnlguThRfpmF"
      }
    },
    {
      "cell_type": "code",
      "source": [
        "# predicting the model\n",
        "y_pred=model.predict(x_test)"
      ],
      "metadata": {
        "id": "pL0gKnbXXmbR"
      },
      "execution_count": 420,
      "outputs": []
    },
    {
      "cell_type": "code",
      "source": [
        "y_pred"
      ],
      "metadata": {
        "colab": {
          "base_uri": "https://localhost:8080/"
        },
        "id": "mwBDSm0EXtQv",
        "outputId": "f774eb3e-d529-44b2-fd87-b7e86dcc499c"
      },
      "execution_count": 421,
      "outputs": [
        {
          "output_type": "execute_result",
          "data": {
            "text/plain": [
              "array([1, 0, 1, ..., 1, 1, 0])"
            ]
          },
          "metadata": {},
          "execution_count": 421
        }
      ]
    },
    {
      "cell_type": "code",
      "source": [
        "print(y_pred)"
      ],
      "metadata": {
        "colab": {
          "base_uri": "https://localhost:8080/"
        },
        "id": "4p2iE7v6X0WP",
        "outputId": "41ab32cc-6608-40cc-d682-57a89e9b4927"
      },
      "execution_count": 422,
      "outputs": [
        {
          "output_type": "stream",
          "name": "stdout",
          "text": [
            "[1 0 1 ... 1 1 0]\n"
          ]
        }
      ]
    },
    {
      "cell_type": "code",
      "source": [
        "from sklearn.metrics import accuracy_score\n",
        "accuracy_score=accuracy_score(y_pred,y_test)\n",
        "score"
      ],
      "metadata": {
        "colab": {
          "base_uri": "https://localhost:8080/"
        },
        "id": "BXw0mAQwZkDm",
        "outputId": "e403800e-b6e2-4cef-e933-d33d7a9a2ce3"
      },
      "execution_count": 423,
      "outputs": [
        {
          "output_type": "execute_result",
          "data": {
            "text/plain": [
              "0.9865985576923076"
            ]
          },
          "metadata": {},
          "execution_count": 423
        }
      ]
    },
    {
      "cell_type": "code",
      "source": [
        "from sklearn.metrics import recall_score\n",
        "recall_score=recall_score(y_pred,y_test)\n",
        "recall_score"
      ],
      "metadata": {
        "colab": {
          "base_uri": "https://localhost:8080/"
        },
        "id": "VykLCE1kh2tg",
        "outputId": "69d52ca3-40ad-48f8-b1dc-2516deeb557f"
      },
      "execution_count": 424,
      "outputs": [
        {
          "output_type": "execute_result",
          "data": {
            "text/plain": [
              "0.9659197012138189"
            ]
          },
          "metadata": {},
          "execution_count": 424
        }
      ]
    },
    {
      "cell_type": "code",
      "source": [
        "from sklearn.metrics import confusion_matrix\n",
        "confusion_matrix=confusion_matrix(y_pred,y_test)\n",
        "confusion_matrix"
      ],
      "metadata": {
        "colab": {
          "base_uri": "https://localhost:8080/"
        },
        "id": "cCpdXEVaiSm-",
        "outputId": "c63eeead-cfac-4fbd-e28f-df12c90ee6a9"
      },
      "execution_count": 425,
      "outputs": [
        {
          "output_type": "execute_result",
          "data": {
            "text/plain": [
              "array([[2004,   14],\n",
              "       [  73, 2069]])"
            ]
          },
          "metadata": {},
          "execution_count": 425
        }
      ]
    },
    {
      "cell_type": "markdown",
      "source": [
        "#result of test dataset"
      ],
      "metadata": {
        "id": "ct_9MFf9jBgG"
      }
    },
    {
      "cell_type": "code",
      "source": [
        "print(\"ACCURACY_SCORE:\",accuracy_score)\n",
        "print(\"RECALL_SCORE:\",recall_score)\n",
        "print(\"CONFUSION_MATRIX:\",confusion_matrix)"
      ],
      "metadata": {
        "colab": {
          "base_uri": "https://localhost:8080/"
        },
        "id": "TSOJZEKFjAm9",
        "outputId": "60c20cd1-c952-45dc-b267-a3be116ee819"
      },
      "execution_count": 426,
      "outputs": [
        {
          "output_type": "stream",
          "name": "stdout",
          "text": [
            "ACCURACY_SCORE: 0.9790865384615385\n",
            "RECALL_SCORE: 0.9659197012138189\n",
            "CONFUSION_MATRIX: [[2004   14]\n",
            " [  73 2069]]\n"
          ]
        }
      ]
    },
    {
      "cell_type": "markdown",
      "source": [
        "#predicting using the train dataset"
      ],
      "metadata": {
        "id": "D0vv-HStf1ld"
      }
    },
    {
      "cell_type": "code",
      "source": [
        "y_pred=model.predict(x_train)"
      ],
      "metadata": {
        "id": "ZtpAD6X_f0RA"
      },
      "execution_count": 427,
      "outputs": []
    },
    {
      "cell_type": "code",
      "source": [
        "y_pred"
      ],
      "metadata": {
        "colab": {
          "base_uri": "https://localhost:8080/"
        },
        "id": "-H9Tpu5lgARW",
        "outputId": "82887bcb-b1aa-4b6b-a052-71f385065c19"
      },
      "execution_count": 428,
      "outputs": [
        {
          "output_type": "execute_result",
          "data": {
            "text/plain": [
              "array([0, 0, 0, ..., 0, 0, 1])"
            ]
          },
          "metadata": {},
          "execution_count": 428
        }
      ]
    },
    {
      "cell_type": "code",
      "source": [
        "from sklearn.metrics import accuracy_score\n",
        "accuracy_score=accuracy_score(y_pred,y_train)\n",
        "score"
      ],
      "metadata": {
        "colab": {
          "base_uri": "https://localhost:8080/"
        },
        "id": "sBiqjmQFgGeH",
        "outputId": "99270431-d68c-4de5-9b77-d7c0f6bb7a57"
      },
      "execution_count": 429,
      "outputs": [
        {
          "output_type": "execute_result",
          "data": {
            "text/plain": [
              "0.9865985576923076"
            ]
          },
          "metadata": {},
          "execution_count": 429
        }
      ]
    },
    {
      "cell_type": "code",
      "source": [
        "from sklearn.metrics import recall_score\n",
        "recall_score=recall_score(y_pred,y_train)\n",
        "recall_score"
      ],
      "metadata": {
        "colab": {
          "base_uri": "https://localhost:8080/"
        },
        "id": "wB5wSYTJigs8",
        "outputId": "be1f18bc-e0c9-432b-b216-23bf018b57e2"
      },
      "execution_count": 430,
      "outputs": [
        {
          "output_type": "execute_result",
          "data": {
            "text/plain": [
              "0.9794204612655234"
            ]
          },
          "metadata": {},
          "execution_count": 430
        }
      ]
    },
    {
      "cell_type": "code",
      "source": [
        "from sklearn.metrics import confusion_matrix\n",
        "confusion_matrix=confusion_matrix(y_pred,y_train)\n",
        "confusion_matrix"
      ],
      "metadata": {
        "colab": {
          "base_uri": "https://localhost:8080/"
        },
        "id": "YPIdYxvrizbJ",
        "outputId": "521416ee-21df-48b5-f14c-a39c48cb1c4b"
      },
      "execution_count": 431,
      "outputs": [
        {
          "output_type": "execute_result",
          "data": {
            "text/plain": [
              "array([[8136,   49],\n",
              "       [ 174, 8281]])"
            ]
          },
          "metadata": {},
          "execution_count": 431
        }
      ]
    },
    {
      "cell_type": "markdown",
      "source": [
        "#result of train dataset"
      ],
      "metadata": {
        "id": "PtQLeaapkafR"
      }
    },
    {
      "cell_type": "code",
      "source": [
        "print(\"ACCURACY_SCORE:\",accuracy_score)\n",
        "print(\"RECALL_SCORE:\",recall_score)\n",
        "print(\"CONFUSION_MATRIX:\",confusion_matrix)"
      ],
      "metadata": {
        "colab": {
          "base_uri": "https://localhost:8080/"
        },
        "id": "i9dLDJOSkfQ0",
        "outputId": "d193348e-eadd-4b4f-d238-e41052c43c12"
      },
      "execution_count": 432,
      "outputs": [
        {
          "output_type": "stream",
          "name": "stdout",
          "text": [
            "ACCURACY_SCORE: 0.9865985576923076\n",
            "RECALL_SCORE: 0.9794204612655234\n",
            "CONFUSION_MATRIX: [[8136   49]\n",
            " [ 174 8281]]\n"
          ]
        }
      ]
    },
    {
      "cell_type": "markdown",
      "source": [
        "#note:\n",
        "above predicting using the train dataset is optional because i used to see wheather the model is overfitting or not \n",
        "\n",
        "if prediction using the train dataset score is similar to\n",
        " prediction using the test dataset the model is not overfitted"
      ],
      "metadata": {
        "id": "KwanuJmAgcYd"
      }
    },
    {
      "cell_type": "markdown",
      "source": [
        "#optional algorithm"
      ],
      "metadata": {
        "id": "7U7j9fdYmPMD"
      }
    },
    {
      "cell_type": "code",
      "source": [
        "'''#naive_bayes\n",
        "from sklearn.naive_bayes import GaussianNB\n",
        "model=GaussianNB()\n",
        "model.fit(x_train,y_train)\n",
        "\n",
        "\n",
        "y_pred=model.predict(x_test)\n",
        "y_pred.shape\n",
        "\n",
        "\n",
        "from sklearn.metrics import accuracy_score\n",
        "score=accuracy_score(y_pred,y_test)\n",
        "score\n",
        "'''"
      ],
      "metadata": {
        "colab": {
          "base_uri": "https://localhost:8080/",
          "height": 53
        },
        "id": "sxOIyFPrmTnd",
        "outputId": "a631a1a2-f180-4b76-9e6c-c41d4516e57f"
      },
      "execution_count": 433,
      "outputs": [
        {
          "output_type": "execute_result",
          "data": {
            "text/plain": [
              "'#naive_bayes\\nfrom sklearn.naive_bayes import GaussianNB\\nmodel=GaussianNB()\\nmodel.fit(x_train,y_train)\\n\\n\\ny_pred=model.predict(x_test)\\ny_pred.shape\\n\\n\\nfrom sklearn.metrics import accuracy_score\\nscore=accuracy_score(y_pred,y_test)\\nscore\\n'"
            ],
            "application/vnd.google.colaboratory.intrinsic+json": {
              "type": "string"
            }
          },
          "metadata": {},
          "execution_count": 433
        }
      ]
    },
    {
      "cell_type": "code",
      "source": [
        "''' # k_nearest neighbors\n",
        "\n",
        "\n",
        "from sklearn.neighbors import KNeighborsClassifier\n",
        "model= KNeighborsClassifier(n_neighbors=5)\n",
        "model.fit(x_train,y_train)\n",
        "\n",
        "\n",
        "y_pred=model.predict(x_test)\n",
        "y_pred.shape\n",
        "\n",
        "from sklearn.metrics import accuracy_score\n",
        "score=accuracy_score(y_pred,y_test)\n",
        "score\n",
        "'''"
      ],
      "metadata": {
        "colab": {
          "base_uri": "https://localhost:8080/",
          "height": 70
        },
        "id": "NZpxJflmmjo9",
        "outputId": "ee15d368-efc7-4502-d588-7d243244b324"
      },
      "execution_count": 434,
      "outputs": [
        {
          "output_type": "execute_result",
          "data": {
            "text/plain": [
              "' # k_nearest neighbors\\n\\n\\nfrom sklearn.neighbors import KNeighborsClassifier\\nmodel= KNeighborsClassifier(n_neighbors=5)\\nmodel.fit(x_train,y_train)\\n\\n\\ny_pred=model.predict(x_test)\\ny_pred.shape\\n\\nfrom sklearn.metrics import accuracy_score\\nscore=accuracy_score(y_pred,y_test)\\nscore\\n'"
            ],
            "application/vnd.google.colaboratory.intrinsic+json": {
              "type": "string"
            }
          },
          "metadata": {},
          "execution_count": 434
        }
      ]
    },
    {
      "cell_type": "code",
      "source": [
        "'''# support vector machine\n",
        "from sklearn.svm import SVC\n",
        "model=SVC(kernel=\"linear\",random_state=0)\n",
        "model.fit(x_train,y_train)\n",
        "\n",
        "\n",
        "y_pred=model.predict(x_test)\n",
        "y_pred.shape\n",
        "\n",
        "\n",
        "from sklearn.metrics import accuracy_score\n",
        "score=accuracy_score(y_pred,y_test)\n",
        "score\n",
        "'''"
      ],
      "metadata": {
        "colab": {
          "base_uri": "https://localhost:8080/",
          "height": 53
        },
        "id": "zjDLYCLcmzu6",
        "outputId": "bec4f920-50e9-4b46-9cd4-f0e3f5ccc005"
      },
      "execution_count": 435,
      "outputs": [
        {
          "output_type": "execute_result",
          "data": {
            "text/plain": [
              "'# support vector machine\\nfrom sklearn.svm import SVC\\nmodel=SVC(kernel=\"linear\",random_state=0)\\nmodel.fit(x_train,y_train)\\n\\n\\ny_pred=model.predict(x_test)\\ny_pred.shape\\n\\n\\nfrom sklearn.metrics import accuracy_score\\nscore=accuracy_score(y_pred,y_test)\\nscore\\n'"
            ],
            "application/vnd.google.colaboratory.intrinsic+json": {
              "type": "string"
            }
          },
          "metadata": {},
          "execution_count": 435
        }
      ]
    },
    {
      "cell_type": "code",
      "source": [
        "'''# DecisionTreeClassifier\n",
        "\n",
        " from sklearn.tree import DecisionTreeClassifier\n",
        "model=DecisionTreeClassifier()\n",
        "model.fit(x_train,y_train)\n",
        "\n",
        "\n",
        "y_pred=model.predict(x_test)\n",
        "y_pred.shape\n",
        "\n",
        "\n",
        "from sklearn.metrics import accuracy_score\n",
        "score=accuracy_score(y_pred,y_test)\n",
        "score\n",
        "'''"
      ],
      "metadata": {
        "colab": {
          "base_uri": "https://localhost:8080/",
          "height": 53
        },
        "id": "ADrd1H2om7QC",
        "outputId": "f9e655ff-a8df-4cc7-fac3-9d80c4555bea"
      },
      "execution_count": 436,
      "outputs": [
        {
          "output_type": "execute_result",
          "data": {
            "text/plain": [
              "'# DecisionTreeClassifier\\n\\n from sklearn.tree import DecisionTreeClassifier\\nmodel=DecisionTreeClassifier()\\nmodel.fit(x_train,y_train)\\n\\n\\ny_pred=model.predict(x_test)\\ny_pred.shape\\n\\n\\nfrom sklearn.metrics import accuracy_score\\nscore=accuracy_score(y_pred,y_test)\\nscore\\n'"
            ],
            "application/vnd.google.colaboratory.intrinsic+json": {
              "type": "string"
            }
          },
          "metadata": {},
          "execution_count": 436
        }
      ]
    },
    {
      "cell_type": "markdown",
      "source": [
        "#building the prediction system"
      ],
      "metadata": {
        "id": "7WedHnHLhGeW"
      }
    },
    {
      "cell_type": "code",
      "source": [
        "news=x_test[9]\n",
        "prediction=model.predict(news)\n",
        "\n",
        "print(prediction)\n",
        "\n",
        "if(prediction[0]==0):\n",
        "  print(\"it is real news\")\n",
        "else:\n",
        "    print(\"it is fake news\")"
      ],
      "metadata": {
        "colab": {
          "base_uri": "https://localhost:8080/"
        },
        "id": "8hVNfjKNZx_K",
        "outputId": "7edfe557-7e0f-4dfd-ba63-06e58820eb8a"
      },
      "execution_count": 437,
      "outputs": [
        {
          "output_type": "stream",
          "name": "stdout",
          "text": [
            "[1]\n",
            "it is fake news\n"
          ]
        }
      ]
    },
    {
      "cell_type": "markdown",
      "source": [
        "#conclusion"
      ],
      "metadata": {
        "id": "okziTZFnnkAF"
      }
    },
    {
      "cell_type": "code",
      "source": [
        "# this model will predict the new is real or not based on parameter like author , title , text"
      ],
      "metadata": {
        "id": "ADkPF3Bhae00"
      },
      "execution_count": 438,
      "outputs": []
    },
    {
      "cell_type": "code",
      "source": [],
      "metadata": {
        "id": "B9OsBrImnzDA"
      },
      "execution_count": null,
      "outputs": []
    }
  ]
}